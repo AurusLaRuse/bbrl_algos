{
 "cells": [
  {
   "cell_type": "code",
   "execution_count": 1,
   "metadata": {},
   "outputs": [
    {
     "name": "stdout",
     "output_type": "stream",
     "text": [
      "/home/spi_2019_69/Etude/IA Rob/Mini_Projet/dqn.py:319: UserWarning: \n",
      "The version_base parameter is not specified.\n",
      "Please specify a compatability version level, or None.\n",
      "Will assume defaults for version 1.1\n",
      "  @hydra.main(\n",
      "test\n",
      "/home/spi_2019_69/miniconda3/lib/python3.11/site-packages/hydra/_internal/hydra.py:119: UserWarning: Future Hydra versions will no longer change working directory at job runtime by default.\n",
      "See https://hydra.cc/docs/1.2/upgrades/1.1_to_1.2/changes_to_job_working_dir/ for more information.\n",
      "  ret = run_job(\n",
      "{'save_best': False, 'plot_agents': False, 'collect_stats': True, 'log_dir': './tmp', 'video_dir': './tmp/videos', 'logger': {'classname': 'bbrl.utils.logger.TFLogger', 'log_dir': './tmp', 'cache_size': 10000, 'every_n_seconds': 10, 'verbose': False}, 'gym_env': {'env_name': 'LunarLander-v2', 'render_mode': 'rgb_array'}, 'algorithm': {'architecture': {'hidden_sizes': [512, 512]}, 'seed': {'train': 1, 'eval': 99, 'q': 1, 'explorer': 456, 'torch': 789}, 'explorer': {'epsilon_start': 0.7, 'epsilon_end': 0.05, 'decay': 0.996}, 'buffer': {'max_size': 20000, 'batch_size': 500, 'learning_starts': 2000}, 'target_critic_update_interval': 50, 'max_grad_norm': 1.5, 'nb_evals': 10, 'n_envs': 5, 'n_steps_train': 50, 'optim_n_updates': 3, 'discount_factor': 0.99, 'n_steps': 900000, 'eval_interval': 1000}, 'optimizer': {'classname': 'torch.optim.Adam', 'lr': 0.001}}\n",
      "Error executing job with overrides: []\n",
      "Traceback (most recent call last):\n",
      "  File \"/home/spi_2019_69/miniconda3/lib/python3.11/site-packages/gymnasium/envs/box2d/bipedal_walker.py\", line 15, in <module>\n",
      "    import Box2D\n",
      "ModuleNotFoundError: No module named 'Box2D'\n",
      "\n",
      "The above exception was the direct cause of the following exception:\n",
      "\n",
      "Traceback (most recent call last):\n",
      "  File \"/home/spi_2019_69/Etude/IA Rob/Mini_Projet/dqn.py\", line 331, in main\n",
      "    run_dqn(cfg_raw, logger)\n",
      "  File \"/home/spi_2019_69/Etude/IA Rob/Mini_Projet/dqn.py\", line 161, in run_dqn\n",
      "    train_env_agent, eval_env_agent = local_get_env_agents(cfg)\n",
      "                                      ^^^^^^^^^^^^^^^^^^^^^^^^^\n",
      "  File \"/home/spi_2019_69/Etude/IA Rob/Mini_Projet/dqn.py\", line 55, in local_get_env_agents\n",
      "    eval_env_agent = ParallelGymAgent(\n",
      "                     ^^^^^^^^^^^^^^^^^\n",
      "  File \"/home/spi_2019_69/miniconda3/lib/python3.11/site-packages/bbrl/agents/gymnasium.py\", line 302, in __init__\n",
      "    self._initialize_envs(num_envs=num_envs, make_env_args=args)\n",
      "  File \"/home/spi_2019_69/miniconda3/lib/python3.11/site-packages/bbrl/agents/gymnasium.py\", line 305, in _initialize_envs\n",
      "    self.envs = [self.make_env_fn(**make_env_args) for _ in range(num_envs)]\n",
      "                ^^^^^^^^^^^^^^^^^^^^^^^^^^^^^^^^^^^^^^^^^^^^^^^^^^^^^^^^^^^^\n",
      "  File \"/home/spi_2019_69/miniconda3/lib/python3.11/site-packages/bbrl/agents/gymnasium.py\", line 305, in <listcomp>\n",
      "    self.envs = [self.make_env_fn(**make_env_args) for _ in range(num_envs)]\n",
      "                 ^^^^^^^^^^^^^^^^^^^^^^^^^^^^^^^^^\n",
      "  File \"/home/spi_2019_69/miniconda3/lib/python3.11/site-packages/bbrl/agents/gymnasium.py\", line 39, in make_env\n",
      "    env = make(env_name, **kwargs)\n",
      "          ^^^^^^^^^^^^^^^^^^^^^^^^\n",
      "  File \"/home/spi_2019_69/miniconda3/lib/python3.11/site-packages/gymnasium/envs/registration.py\", line 756, in make\n",
      "    env_creator = load_env_creator(env_spec.entry_point)\n",
      "                  ^^^^^^^^^^^^^^^^^^^^^^^^^^^^^^^^^^^^^^\n",
      "  File \"/home/spi_2019_69/miniconda3/lib/python3.11/site-packages/gymnasium/envs/registration.py\", line 545, in load_env_creator\n",
      "    mod = importlib.import_module(mod_name)\n",
      "          ^^^^^^^^^^^^^^^^^^^^^^^^^^^^^^^^^\n",
      "  File \"/home/spi_2019_69/miniconda3/lib/python3.11/importlib/__init__.py\", line 126, in import_module\n",
      "    return _bootstrap._gcd_import(name[level:], package, level)\n",
      "           ^^^^^^^^^^^^^^^^^^^^^^^^^^^^^^^^^^^^^^^^^^^^^^^^^^^^\n",
      "  File \"<frozen importlib._bootstrap>\", line 1204, in _gcd_import\n",
      "  File \"<frozen importlib._bootstrap>\", line 1176, in _find_and_load\n",
      "  File \"<frozen importlib._bootstrap>\", line 1126, in _find_and_load_unlocked\n",
      "  File \"<frozen importlib._bootstrap>\", line 241, in _call_with_frames_removed\n",
      "  File \"<frozen importlib._bootstrap>\", line 1204, in _gcd_import\n",
      "  File \"<frozen importlib._bootstrap>\", line 1176, in _find_and_load\n",
      "  File \"<frozen importlib._bootstrap>\", line 1147, in _find_and_load_unlocked\n",
      "  File \"<frozen importlib._bootstrap>\", line 690, in _load_unlocked\n",
      "  File \"<frozen importlib._bootstrap_external>\", line 940, in exec_module\n",
      "  File \"<frozen importlib._bootstrap>\", line 241, in _call_with_frames_removed\n",
      "  File \"/home/spi_2019_69/miniconda3/lib/python3.11/site-packages/gymnasium/envs/box2d/__init__.py\", line 1, in <module>\n",
      "    from gymnasium.envs.box2d.bipedal_walker import BipedalWalker, BipedalWalkerHardcore\n",
      "  File \"/home/spi_2019_69/miniconda3/lib/python3.11/site-packages/gymnasium/envs/box2d/bipedal_walker.py\", line 25, in <module>\n",
      "    raise DependencyNotInstalled(\n",
      "gymnasium.error.DependencyNotInstalled: Box2D is not installed, run `pip install gymnasium[box2d]`\n",
      "\n",
      "Set the environment variable HYDRA_FULL_ERROR=1 for a complete stack trace.\n"
     ]
    }
   ],
   "source": [
    "!python3 dqn.py"
   ]
  }
 ],
 "metadata": {
  "kernelspec": {
   "display_name": "base",
   "language": "python",
   "name": "python3"
  },
  "language_info": {
   "codemirror_mode": {
    "name": "ipython",
    "version": 3
   },
   "file_extension": ".py",
   "mimetype": "text/x-python",
   "name": "python",
   "nbconvert_exporter": "python",
   "pygments_lexer": "ipython3",
   "version": "3.11.5"
  }
 },
 "nbformat": 4,
 "nbformat_minor": 2
}
