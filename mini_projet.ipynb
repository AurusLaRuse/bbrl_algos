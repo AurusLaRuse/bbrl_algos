{
 "cells": [
  {
   "cell_type": "code",
   "execution_count": 15,
   "metadata": {},
   "outputs": [],
   "source": [
    "import copy\n",
    "import os\n",
    "import numpy as np\n",
    "from typing import Callable, List\n",
    "\n",
    "import hydra\n",
    "import optuna\n",
    "from omegaconf import DictConfig\n",
    "from omegaconf import OmegaConf# %%\n",
    "\n",
    "import torch\n",
    "import torch.nn as nn\n",
    "\n",
    "# %%\n",
    "import gymnasium as gym\n",
    "from gymnasium import Env\n",
    "from gymnasium.wrappers import AutoResetWrapper\n",
    "\n",
    "# %%\n",
    "from bbrl import get_arguments, get_class\n",
    "from bbrl.agents import TemporalAgent, Agents, PrintAgent\n",
    "from bbrl.workspace import Workspace\n",
    "\n",
    "from bbrl_algos.models.exploration_agents import EGreedyActionSelector\n",
    "from bbrl_algos.models.critics import DiscreteQAgent\n",
    "from bbrl_algos.models.loggers import Logger\n",
    "from bbrl_algos.models.utils import save_best\n",
    "\n",
    "from bbrl.visu.plot_critics import plot_discrete_q, plot_critic\n",
    "from bbrl_algos.models.hyper_params import launch_optuna\n",
    "\n",
    "from bbrl.utils.chrono import Chrono\n",
    "\n",
    "# HYDRA_FULL_ERROR = 1\n",
    "import matplotlib\n",
    "import matplotlib.pyplot as plt\n",
    "\n",
    "#from bbrl_gymnasium.envs.maze_mdp import MazeMDPEnv\n",
    "from bbrl_algos.wrappers.env_wrappers import MazeMDPContinuousWrapper\n",
    "from bbrl.agents.gymnasium import make_env, ParallelGymAgent\n",
    "from functools import partial\n",
    "\n",
    "\n",
    "matplotlib.use(\"TkAgg\")"
   ]
  },
  {
   "cell_type": "code",
   "execution_count": 13,
   "metadata": {},
   "outputs": [],
   "source": [
    "from bbrl_algos.algos.dqn.dqn import main"
   ]
  },
  {
   "cell_type": "code",
   "execution_count": 22,
   "metadata": {},
   "outputs": [
    {
     "name": "stdout",
     "output_type": "stream",
     "text": [
      "Unexpected exception formatting exception. Falling back to standard exception\n"
     ]
    },
    {
     "name": "stderr",
     "output_type": "stream",
     "text": [
      "Traceback (most recent call last):\n",
      "  File \"/home/spi_2019_69/miniconda3/lib/python3.11/site-packages/IPython/core/interactiveshell.py\", line 3548, in run_code\n",
      "    exec(code_obj, self.user_global_ns, self.user_ns)\n",
      "  File \"/tmp/ipykernel_16140/1618489433.py\", line 2, in <module>\n",
      "    main(cfg.hydra)\n",
      "  File \"/home/spi_2019_69/miniconda3/lib/python3.11/site-packages/hydra/main.py\", line 83, in decorated_main\n",
      "    return task_function(cfg_passthrough)\n",
      "           ^^^^^^^^^^^^^^^^^^^^^^^^^^^^^^\n",
      "  File \"/home/spi_2019_69/Etude/IA Rob/Mini_Projet/bbrl_algos/algos/dqn/dqn.py\", line 326, in main\n",
      "  File \"/home/spi_2019_69/miniconda3/lib/python3.11/site-packages/omegaconf/dictconfig.py\", line 355, in __getattr__\n",
      "    self._format_and_raise(\n",
      "  File \"/home/spi_2019_69/miniconda3/lib/python3.11/site-packages/omegaconf/base.py\", line 231, in _format_and_raise\n",
      "    format_and_raise(\n",
      "  File \"/home/spi_2019_69/miniconda3/lib/python3.11/site-packages/omegaconf/_utils.py\", line 899, in format_and_raise\n",
      "    _raise(ex, cause)\n",
      "  File \"/home/spi_2019_69/miniconda3/lib/python3.11/site-packages/omegaconf/_utils.py\", line 797, in _raise\n",
      "    raise ex.with_traceback(sys.exc_info()[2])  # set env var OC_CAUSE=1 for full trace\n",
      "    ^^^^^^^^^^^^^^^^^^^^^^^^^^^^^^^^^^^^^^^^^^\n",
      "  File \"/home/spi_2019_69/miniconda3/lib/python3.11/site-packages/omegaconf/dictconfig.py\", line 351, in __getattr__\n",
      "    return self._get_impl(\n",
      "           ^^^^^^^^^^^^^^^\n",
      "  File \"/home/spi_2019_69/miniconda3/lib/python3.11/site-packages/omegaconf/dictconfig.py\", line 442, in _get_impl\n",
      "    node = self._get_child(\n",
      "           ^^^^^^^^^^^^^^^^\n",
      "  File \"/home/spi_2019_69/miniconda3/lib/python3.11/site-packages/omegaconf/basecontainer.py\", line 73, in _get_child\n",
      "    child = self._get_node(\n",
      "            ^^^^^^^^^^^^^^^\n",
      "  File \"/home/spi_2019_69/miniconda3/lib/python3.11/site-packages/omegaconf/dictconfig.py\", line 480, in _get_node\n",
      "    raise ConfigKeyError(f\"Missing key {key!s}\")\n",
      "omegaconf.errors.ConfigAttributeError: Missing key algorithm\n",
      "    full_key: hydra.algorithm\n",
      "    object_type=dict\n",
      "\n",
      "During handling of the above exception, another exception occurred:\n",
      "\n",
      "Traceback (most recent call last):\n",
      "  File \"/home/spi_2019_69/miniconda3/lib/python3.11/site-packages/IPython/core/interactiveshell.py\", line 2142, in showtraceback\n",
      "    stb = self.InteractiveTB.structured_traceback(\n",
      "          ^^^^^^^^^^^^^^^^^^^^^^^^^^^^^^^^^^^^^^^^\n",
      "  File \"/home/spi_2019_69/miniconda3/lib/python3.11/site-packages/IPython/core/ultratb.py\", line 1435, in structured_traceback\n",
      "    return FormattedTB.structured_traceback(\n",
      "           ^^^^^^^^^^^^^^^^^^^^^^^^^^^^^^^^^\n",
      "  File \"/home/spi_2019_69/miniconda3/lib/python3.11/site-packages/IPython/core/ultratb.py\", line 1326, in structured_traceback\n",
      "    return VerboseTB.structured_traceback(\n",
      "           ^^^^^^^^^^^^^^^^^^^^^^^^^^^^^^^\n",
      "  File \"/home/spi_2019_69/miniconda3/lib/python3.11/site-packages/IPython/core/ultratb.py\", line 1173, in structured_traceback\n",
      "    formatted_exception = self.format_exception_as_a_whole(etype, evalue, etb, number_of_lines_of_context,\n",
      "                          ^^^^^^^^^^^^^^^^^^^^^^^^^^^^^^^^^^^^^^^^^^^^^^^^^^^^^^^^^^^^^^^^^^^^^^^^^^^^^^^^\n",
      "  File \"/home/spi_2019_69/miniconda3/lib/python3.11/site-packages/IPython/core/ultratb.py\", line 1088, in format_exception_as_a_whole\n",
      "    frames.append(self.format_record(record))\n",
      "                  ^^^^^^^^^^^^^^^^^^^^^^^^^^\n",
      "  File \"/home/spi_2019_69/miniconda3/lib/python3.11/site-packages/IPython/core/ultratb.py\", line 970, in format_record\n",
      "    frame_info.lines, Colors, self.has_colors, lvals\n",
      "    ^^^^^^^^^^^^^^^^\n",
      "  File \"/home/spi_2019_69/miniconda3/lib/python3.11/site-packages/IPython/core/ultratb.py\", line 792, in lines\n",
      "    return self._sd.lines\n",
      "           ^^^^^^^^^^^^^^\n",
      "  File \"/home/spi_2019_69/miniconda3/lib/python3.11/site-packages/stack_data/utils.py\", line 144, in cached_property_wrapper\n",
      "    value = obj.__dict__[self.func.__name__] = self.func(obj)\n",
      "                                               ^^^^^^^^^^^^^^\n",
      "  File \"/home/spi_2019_69/miniconda3/lib/python3.11/site-packages/stack_data/core.py\", line 734, in lines\n",
      "    pieces = self.included_pieces\n",
      "             ^^^^^^^^^^^^^^^^^^^^\n",
      "  File \"/home/spi_2019_69/miniconda3/lib/python3.11/site-packages/stack_data/utils.py\", line 144, in cached_property_wrapper\n",
      "    value = obj.__dict__[self.func.__name__] = self.func(obj)\n",
      "                                               ^^^^^^^^^^^^^^\n",
      "  File \"/home/spi_2019_69/miniconda3/lib/python3.11/site-packages/stack_data/core.py\", line 681, in included_pieces\n",
      "    pos = scope_pieces.index(self.executing_piece)\n",
      "                             ^^^^^^^^^^^^^^^^^^^^\n",
      "  File \"/home/spi_2019_69/miniconda3/lib/python3.11/site-packages/stack_data/utils.py\", line 144, in cached_property_wrapper\n",
      "    value = obj.__dict__[self.func.__name__] = self.func(obj)\n",
      "                                               ^^^^^^^^^^^^^^\n",
      "  File \"/home/spi_2019_69/miniconda3/lib/python3.11/site-packages/stack_data/core.py\", line 660, in executing_piece\n",
      "    return only(\n",
      "           ^^^^^\n",
      "  File \"/home/spi_2019_69/miniconda3/lib/python3.11/site-packages/executing/executing.py\", line 116, in only\n",
      "    raise NotOneValueFound('Expected one value, found 0')\n",
      "executing.executing.NotOneValueFound: Expected one value, found 0\n"
     ]
    }
   ],
   "source": [
    "cfg = OmegaConf.load(\"bbrl_algos/algos/dqn/configs/dqn_lunar_lander.yaml\")\n",
    "main(cfg.hydra)"
   ]
  },
  {
   "cell_type": "code",
   "execution_count": 6,
   "metadata": {},
   "outputs": [
    {
     "ename": "SystemExit",
     "evalue": "2",
     "output_type": "error",
     "traceback": [
      "\u001b[0;31m---------------------------------------------------------------------------\u001b[0m",
      "\u001b[0;31mSystemExit\u001b[0m                                Traceback (most recent call last)",
      "\u001b[1;32m/home/spi_2019_69/Etude/IA Rob/Mini_Projet/mini_projet.ipynb Cell 4\u001b[0m line \u001b[0;36m1\n\u001b[0;32m----> <a href='vscode-notebook-cell:/home/spi_2019_69/Etude/IA%20Rob/Mini_Projet/mini_projet.ipynb#W3sZmlsZQ%3D%3D?line=0'>1</a>\u001b[0m run()\n",
      "File \u001b[0;32m~/miniconda3/lib/python3.11/site-packages/hydra/main.py:86\u001b[0m, in \u001b[0;36mmain.<locals>.main_decorator.<locals>.decorated_main\u001b[0;34m(cfg_passthrough)\u001b[0m\n\u001b[1;32m     84\u001b[0m \u001b[39melse\u001b[39;00m:\n\u001b[1;32m     85\u001b[0m     args_parser \u001b[39m=\u001b[39m get_args_parser()\n\u001b[0;32m---> 86\u001b[0m     args \u001b[39m=\u001b[39m args_parser\u001b[39m.\u001b[39;49mparse_args()\n\u001b[1;32m     87\u001b[0m     \u001b[39mif\u001b[39;00m args\u001b[39m.\u001b[39mexperimental_rerun \u001b[39mis\u001b[39;00m \u001b[39mnot\u001b[39;00m \u001b[39mNone\u001b[39;00m:\n\u001b[1;32m     88\u001b[0m         cfg \u001b[39m=\u001b[39m _get_rerun_conf(args\u001b[39m.\u001b[39mexperimental_rerun, args\u001b[39m.\u001b[39moverrides)\n",
      "File \u001b[0;32m~/miniconda3/lib/python3.11/argparse.py:1872\u001b[0m, in \u001b[0;36mArgumentParser.parse_args\u001b[0;34m(self, args, namespace)\u001b[0m\n\u001b[1;32m   1870\u001b[0m \u001b[39mif\u001b[39;00m argv:\n\u001b[1;32m   1871\u001b[0m     msg \u001b[39m=\u001b[39m _(\u001b[39m'\u001b[39m\u001b[39munrecognized arguments: \u001b[39m\u001b[39m%s\u001b[39;00m\u001b[39m'\u001b[39m)\n\u001b[0;32m-> 1872\u001b[0m     \u001b[39mself\u001b[39;49m\u001b[39m.\u001b[39;49merror(msg \u001b[39m%\u001b[39;49m \u001b[39m'\u001b[39;49m\u001b[39m \u001b[39;49m\u001b[39m'\u001b[39;49m\u001b[39m.\u001b[39;49mjoin(argv))\n\u001b[1;32m   1873\u001b[0m \u001b[39mreturn\u001b[39;00m args\n",
      "File \u001b[0;32m~/miniconda3/lib/python3.11/argparse.py:2630\u001b[0m, in \u001b[0;36mArgumentParser.error\u001b[0;34m(self, message)\u001b[0m\n\u001b[1;32m   2628\u001b[0m \u001b[39mself\u001b[39m\u001b[39m.\u001b[39mprint_usage(_sys\u001b[39m.\u001b[39mstderr)\n\u001b[1;32m   2629\u001b[0m args \u001b[39m=\u001b[39m {\u001b[39m'\u001b[39m\u001b[39mprog\u001b[39m\u001b[39m'\u001b[39m: \u001b[39mself\u001b[39m\u001b[39m.\u001b[39mprog, \u001b[39m'\u001b[39m\u001b[39mmessage\u001b[39m\u001b[39m'\u001b[39m: message}\n\u001b[0;32m-> 2630\u001b[0m \u001b[39mself\u001b[39;49m\u001b[39m.\u001b[39;49mexit(\u001b[39m2\u001b[39;49m, _(\u001b[39m'\u001b[39;49m\u001b[39m%(prog)s\u001b[39;49;00m\u001b[39m: error: \u001b[39;49m\u001b[39m%(message)s\u001b[39;49;00m\u001b[39m\\n\u001b[39;49;00m\u001b[39m'\u001b[39;49m) \u001b[39m%\u001b[39;49m args)\n",
      "File \u001b[0;32m~/miniconda3/lib/python3.11/argparse.py:2617\u001b[0m, in \u001b[0;36mArgumentParser.exit\u001b[0;34m(self, status, message)\u001b[0m\n\u001b[1;32m   2615\u001b[0m \u001b[39mif\u001b[39;00m message:\n\u001b[1;32m   2616\u001b[0m     \u001b[39mself\u001b[39m\u001b[39m.\u001b[39m_print_message(message, _sys\u001b[39m.\u001b[39mstderr)\n\u001b[0;32m-> 2617\u001b[0m _sys\u001b[39m.\u001b[39;49mexit(status)\n",
      "\u001b[0;31mSystemExit\u001b[0m: 2"
     ]
    }
   ],
   "source": []
  }
 ],
 "metadata": {
  "kernelspec": {
   "display_name": "base",
   "language": "python",
   "name": "python3"
  },
  "language_info": {
   "codemirror_mode": {
    "name": "ipython",
    "version": 3
   },
   "file_extension": ".py",
   "mimetype": "text/x-python",
   "name": "python",
   "nbconvert_exporter": "python",
   "pygments_lexer": "ipython3",
   "version": "3.11.5"
  }
 },
 "nbformat": 4,
 "nbformat_minor": 2
}
